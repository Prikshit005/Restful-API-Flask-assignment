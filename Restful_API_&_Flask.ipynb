{
  "nbformat": 4,
  "nbformat_minor": 0,
  "metadata": {
    "colab": {
      "provenance": []
    },
    "kernelspec": {
      "name": "python3",
      "display_name": "Python 3"
    },
    "language_info": {
      "name": "python"
    }
  },
  "cells": [
    {
      "cell_type": "markdown",
      "source": [
        "#Restful API & Flask"
      ],
      "metadata": {
        "id": "gx6e-JDbBAbE"
      }
    },
    {
      "cell_type": "markdown",
      "source": [
        "**1.What is a RESTful API?**\n",
        "- A RESTful API (Representational State Transfer API) is a type of web API that adheres to the principles and constraints of REST, an architectural style for designing networked applications. RESTful APIs are used to allow systems to communicate over HTTP, typically using standard HTTP methods."
      ],
      "metadata": {
        "id": "ET6kwB7YBLXj"
      }
    },
    {
      "cell_type": "markdown",
      "source": [
        "**2.Explain the concept of API specification?**\n",
        "- An API specification is a detailed description of how an API works. It acts like a guide or contract between the API provider and users (usually developers), explaining what services are available, how to access them, what kind of data to send or receive, and what responses or errors to expect. It outlines things like the available endpoints (URLs), HTTP methods (like GET or POST), request formats, and response formats (usually in JSON). This helps developers understand how to use the API correctly and consistently, without needing to see the backend code. Popular formats for API specifications include OpenAPI (formerly Swagger) and RAML."
      ],
      "metadata": {
        "id": "oY59UBJTBY27"
      }
    },
    {
      "cell_type": "markdown",
      "source": [
        "**3. What is Flask, and why is it popular for building APIs?**\n",
        "- Flask is a lightweight and easy-to-use web framework for Python that helps developers build web applications and APIs quickly. It's popular for building APIs because it is simple, flexible, and doesn't require a lot of setup to get started. With Flask, we can define routes (URLs) and how they should respond to requests using just a few lines of code. It gives us the freedom to choose our tools and structure, making it great for both beginners and experienced developers who want control over how their applications are built. Its simplicity and strong community support make it a go-to choice for creating RESTful APIs."
      ],
      "metadata": {
        "id": "952_MhTVBwhr"
      }
    },
    {
      "cell_type": "markdown",
      "source": [
        "**4. What is routing in Flask?**\n",
        "- Routing in Flask is the process of connecting a URL (web address) to a specific function in our code, so when someone visits that URL, Flask knows what to do. Each route defines a path (like /home or /users) and what should happen when that path is accessed. For example, we can set up a route so that when someone goes to /hello, Flask runs a function that returns \"Hello, World!\" to the browser. This makes it easy to build web pages or APIs, because we can control what happens for each URL in our application."
      ],
      "metadata": {
        "id": "cl1MhgARCAh1"
      }
    },
    {
      "cell_type": "markdown",
      "source": [
        "**5. How do you create a simple Flask application?**\n",
        "- To create a simple Flask application, we first need to install Flask using pip install flask. Then, we create a Python file (like app.py) and write a few lines of code to set it up. We can start by importing Flask, then create a Flask app object, and define a route using the @app.route() decorator. Inside that, we can write a function that returns some text when the route is accessed. Finally, we can run the app using app.run(). This sets up a basic web server that responds to requests. It’s a quick and easy way to build our first web page or API."
      ],
      "metadata": {
        "id": "N3kXORp0CLQd"
      }
    },
    {
      "cell_type": "markdown",
      "source": [
        "**6. What are HTTP methods used in RESTful APIs?**\n",
        "- HTTP methods are the actions used in RESTful APIs to tell the server what we want to do with a resource (like data). The main methods are GET, POST, PUT, PATCH, and DELETE. GET is used to retrieve data, like getting a list of users. POST is used to create new data, like adding a new user. PUT is used to completely update existing data, while PATCH updates part of it. DELETE removes data. These methods make it easy to manage resources in a clear and organized way, using standard web rules."
      ],
      "metadata": {
        "id": "8hAz3a-VCXCs"
      }
    },
    {
      "cell_type": "markdown",
      "source": [
        "**7.What is the purpose of the @app.route() decorator in Flask?**\n",
        "- The @app.route() decorator in Flask is used to link a specific URL (or route) to a function in our code. When someone visits that URL in a web browser or sends a request to it, Flask runs the function connected to it. This is how we tell Flask what should happen for each page or API endpoint in our app. For example, if we write @app.route('/hello'), and then define a function below it, that function will run when someone goes to /hello. It helps Flask know which code to execute for each route in our application."
      ],
      "metadata": {
        "id": "S1qQWSPZChhn"
      }
    },
    {
      "cell_type": "markdown",
      "source": [
        "**8. What is the difference between GET and POST HTTP methods?**\n",
        "- The main difference between GET and POST HTTP methods is how they send data and what they are used for. GET is used to request or retrieve data from the server, and any data sent with it (like search terms) goes in the URL. It’s mainly used for reading information and should not change anything on the server. POST, on the other hand, is used to send data to the server, usually to create or update something, like submitting a form or adding a new user. With POST, the data is sent in the body of the request, making it more secure for sensitive information."
      ],
      "metadata": {
        "id": "8wqcwg7oCvkb"
      }
    },
    {
      "cell_type": "markdown",
      "source": [
        "**9. How do you handle errors in Flask APIs?**\n",
        "- In Flask APIs, we can handle errors by using error handlers that catch problems and return helpful messages instead of crashing the app. We can use the @app.errorhandler() decorator to create custom responses for common errors like 404 (Not Found) or 500 (Internal Server Error). For example, if someone tries to access a route that doesn’t exist, Flask can return a message like “Page not found” instead of a confusing error. We can also use try-except blocks inside our routes to catch specific issues, such as invalid input, and return a proper JSON response with an error message and status code. This makes our API more user-friendly and easier to debug."
      ],
      "metadata": {
        "id": "ETLam5B4C66w"
      }
    },
    {
      "cell_type": "markdown",
      "source": [
        "**10. How do you connect Flask to a SQL database?**\n",
        "- To connect Flask to a SQL database, we can typically use an Object-Relational Mapper (ORM) like SQLAlchemy, which makes it easier to interact with the database using Python code instead of writing raw SQL queries. First, we need to install SQLAlchemy (pip install flask-sqlalchemy), then we configure our Flask app to connect to the database by setting the SQLALCHEMY_DATABASE_URI to the database URL (like SQLite or PostgreSQL). After that, we can create models (classes) that represent tables in our database. SQLAlchemy automatically maps the models to the actual database tables, allowing us to perform operations like adding, updating, or deleting records through Python objects. This approach simplifies working with databases and integrates smoothly with Flask."
      ],
      "metadata": {
        "id": "QjxahvZvDH9-"
      }
    },
    {
      "cell_type": "markdown",
      "source": [
        "**11. What is the role of Flask-SQLAlchemy?**\n",
        "- Flask-SQLAlchemy is an extension for Flask that simplifies working with SQL databases. It integrates SQLAlchemy (a popular Python ORM) into Flask, allowing us to interact with our database using Python objects instead of writing raw SQL queries. Flask-SQLAlchemy handles the connection to the database, helps define database models (representing tables), and provides easy methods to perform operations like adding, updating, and deleting data. This makes it much easier to work with databases in Flask, streamlining development and reducing the amount of boilerplate code we need to write."
      ],
      "metadata": {
        "id": "UAExBB39DTb3"
      }
    },
    {
      "cell_type": "markdown",
      "source": [
        "**12. What are Flask blueprints, and how are they useful?**\n",
        "- Flask blueprints are a way to organize our Flask application into smaller, reusable components. They allow us to define routes, views, and other functionality in separate modules or files, which can then be registered with the main app. This helps keep our code more modular and manageable, especially in larger applications. For example, we could have one blueprint for user-related routes, another for product-related routes, and so on. Blueprints make it easier to structure our app, maintain it, and even reuse parts of it across different projects. They also help with scalability as our application grows."
      ],
      "metadata": {
        "id": "naoxDWCbDewB"
      }
    },
    {
      "cell_type": "markdown",
      "source": [
        "**13. What is the purpose of Flask's request object?**\n",
        "- Flask's request object is used to handle incoming data sent by the client (such as a web browser or an API client) to our Flask application. It gives us access to information about the HTTP request, like the form data, JSON payload, query parameters, headers, and cookies. For example, if a user submits a form, we can use request.form to access the form data, or if we're working with a JSON API, we can use request.json to get the JSON body. Essentially, the request object helps us capture and work with all the data that comes with an incoming request in our Flask app."
      ],
      "metadata": {
        "id": "kfRjVx8aDoTy"
      }
    },
    {
      "cell_type": "markdown",
      "source": [
        "**14. How do you create a RESTful API endpoint using Flask?**\n",
        "- To create a RESTful API endpoint in Flask, we can define a route using the @app.route() decorator and specify the HTTP method (like GET, POST, PUT, DELETE) that the endpoint will handle. Inside the function connected to the route, we can process the request and return a response, often in JSON format."
      ],
      "metadata": {
        "id": "J-YFZ0N0DxTG"
      }
    },
    {
      "cell_type": "markdown",
      "source": [
        "**15. What is the purpose of Flask's jsonify() function?**\n",
        "- Flask's jsonify() function is used to convert Python data (like dictionaries, lists, or tuples) into JSON format, which is the standard data format for APIs. It makes it easy to send JSON responses from our Flask app to the client. When we use jsonify(), Flask automatically sets the correct Content-Type (application/json) in the response header and ensures that the data is properly formatted as JSON"
      ],
      "metadata": {
        "id": "XQnvErK6EGMf"
      }
    },
    {
      "cell_type": "markdown",
      "source": [
        "**16. Explain Flask’s url_for() function?**\n",
        "- Flask’s url_for() function is used to build URLs for our routes based on the name of the function that handles the route, instead of hardcoding the URL paths. This is helpful because if we ever change the URL in one place, we don’t have to update it everywhere in our code—url_for() will always generate the correct link. For example, if we have a route function called home, we can create a link to it using url_for('home'). We can also pass arguments to it for dynamic URLs. This keeps our code cleaner, more flexible, and easier to maintain."
      ],
      "metadata": {
        "id": "bn1YNJ2zEiAp"
      }
    },
    {
      "cell_type": "markdown",
      "source": [
        "**17. How does Flask handle static files (CSS, JavaScript, etc.)?**\n",
        "- Flask handles static files like CSS, JavaScript, and images by serving them from a special folder named static in our project directory. By default, Flask looks for this folder and allows us to access the files in it using a URL path that starts with /static/. For example, if we have a CSS file at static/style.css, we can link to it in our HTML using /static/style.css. Flask automatically takes care of delivering these files to the browser, so we can easily include styles, scripts, and images in our web pages without needing extra setup."
      ],
      "metadata": {
        "id": "0RgRBn3vFCrm"
      }
    },
    {
      "cell_type": "markdown",
      "source": [
        "**18. What is an API specification, and how does it help in building a Flask API?**\n",
        "- An API specification is a detailed description of how an API works, including its endpoints, the types of requests it accepts, what data to send and receive, and possible responses or errors. It acts like a blueprint or contract between the API and its users, ensuring everyone understands how to interact with it correctly. When building a Flask API, an API specification helps by providing a clear plan of what routes to create, what data to expect, and how the API should behave. This makes development faster, reduces mistakes, and makes it easier for others to use or test the API later. Tools like OpenAPI (Swagger) can even generate documentation automatically from the specification."
      ],
      "metadata": {
        "id": "B_Hi4rD4FNiE"
      }
    },
    {
      "cell_type": "markdown",
      "source": [
        "**19. What are HTTP status codes, and why are they important in a Flask API?**\n",
        "- HTTP status codes are standardized numbers returned by a server to indicate the result of a client’s request, such as whether it was successful, caused an error, or needs more information. In a Flask API, they are important because they help the client (like a web app or mobile app) understand what happened with a request. For example, a 200 OK means the request was successful, 201 Created means a new resource was made, 400 Bad Request means there was something wrong with the input, and 404 Not Found means the requested item doesn’t exist. Using the right status codes makes our API easier to use, debug, and integrate with other systems."
      ],
      "metadata": {
        "id": "CPm5dPF9FYp8"
      }
    },
    {
      "cell_type": "markdown",
      "source": [
        "**20. How do you handle POST requests in Flask?**\n",
        "- To handle POST requests in Flask, we can define a route using the @app.route() decorator and set the methods parameter to include 'POST'. Inside the function for that route, we can use Flask’s request object to access the data sent by the client, such as form data or JSON. For example, if the client sends JSON data, we can get it using request.json. After processing the data (like saving it to a database), we return a response, often using jsonify() along with a proper HTTP status code like 201 Created. This is how to create new data or perform actions that require input from the user in a Flask API."
      ],
      "metadata": {
        "id": "j8aX4nogFlUd"
      }
    },
    {
      "cell_type": "markdown",
      "source": [
        "**21. How would you secure a Flask API?**\n",
        "- To secure a Flask API, we can use several simple but important steps. First, add authentication, like API keys or JWT tokens, so only authorized users can access our endpoints. Use HTTPS to encrypt data and protect it from being intercepted. Make sure to validate and sanitize all incoming data to prevent attacks like SQL injection. We can also use rate limiting to block too many requests from the same user, which helps prevent abuse. Don’t expose detailed error messages in production, and use tools like Flask-CORS to control which websites can access our API. Together, these steps help keep our API safe and reliable."
      ],
      "metadata": {
        "id": "yWXNBEPjFwtv"
      }
    },
    {
      "cell_type": "markdown",
      "source": [
        "**22. What is the significance of the Flask-RESTful extension?**\n",
        "- The Flask-RESTful extension is important because it makes it easier to build RESTful APIs with Flask by providing helpful tools and a structured way to create API endpoints. Instead of manually handling routing and request methods, Flask-RESTful lets we create API resources as classes, with methods like get(), post(), put(), and delete() that match HTTP actions. It also simplifies tasks like input parsing and error handling. This makes our code cleaner, more organized, and easier to maintain, especially as our API grows. It's a helpful extension for quickly building well-structured APIs in Flask."
      ],
      "metadata": {
        "id": "SQjvD-WaF-J9"
      }
    },
    {
      "cell_type": "markdown",
      "source": [
        "**23. What is the role of Flask’s session object?**\n",
        "- Flask’s session object is used to store data about a user across multiple requests, like keeping a user logged in or remembering their preferences. It works like a dictionary and allows us to save small pieces of information (e.g., username, user ID) that Flask will keep track of between pages. This data is stored on the client side in a secure, signed cookie so it can’t be easily tampered with. The session object helps create personalized and interactive web experiences by remembering who the user is while they navigate through our app."
      ],
      "metadata": {
        "id": "cTcixloFGH_j"
      }
    },
    {
      "cell_type": "markdown",
      "source": [
        "#  Practical Questions"
      ],
      "metadata": {
        "id": "E_UgkwcIGQd9"
      }
    },
    {
      "cell_type": "markdown",
      "source": [
        "**1. How do you create a basic Flask application?**\n"
      ],
      "metadata": {
        "id": "rInINetOGZVD"
      }
    },
    {
      "cell_type": "code",
      "source": [
        "from flask import Flask\n",
        "\n",
        "app = Flask(__name__)\n",
        "\n",
        "@app.route('/')\n",
        "def home():\n",
        "    return 'Hello, Flask!'\n",
        "\n",
        "if __name__ == '__main__':\n",
        "    app.run(debug=True)\n"
      ],
      "metadata": {
        "id": "p9AV6zEiGsUh"
      },
      "execution_count": null,
      "outputs": []
    },
    {
      "cell_type": "markdown",
      "source": [
        "**2. How do you serve static files like images or CSS in Flask?**\n",
        "- Create a static folder in your project directory:"
      ],
      "metadata": {
        "id": "OMFR6x8OJATB"
      }
    },
    {
      "cell_type": "code",
      "source": [
        "/your-project\n",
        "    /static\n",
        "        /css\n",
        "            style.css\n",
        "        /images\n",
        "            logo.png\n"
      ],
      "metadata": {
        "id": "mCbmuIGaJ6Kt"
      },
      "execution_count": null,
      "outputs": []
    },
    {
      "cell_type": "markdown",
      "source": [
        "- Link to static files in your HTML templates"
      ],
      "metadata": {
        "id": "iiCRn6tMJ8yF"
      }
    },
    {
      "cell_type": "code",
      "source": [
        "<!-- For a CSS file -->\n",
        "<link rel=\"stylesheet\" href=\"{{ url_for('static', filename='css/style.css') }}\">\n",
        "\n",
        "<!-- For an image -->\n",
        "<img src=\"{{ url_for('static', filename='images/logo.png') }}\" alt=\"Logo\">\n"
      ],
      "metadata": {
        "id": "nYrLRwNcKDOt"
      },
      "execution_count": null,
      "outputs": []
    },
    {
      "cell_type": "markdown",
      "source": [
        "- Run Flask app"
      ],
      "metadata": {
        "id": "NoVLc75EKFhq"
      }
    },
    {
      "cell_type": "code",
      "source": [
        "/your-project\n",
        "    /app.py\n",
        "    /static\n",
        "        /css\n",
        "            style.css\n",
        "        /images\n",
        "            logo.png\n",
        "    /templates\n",
        "        index.html\n"
      ],
      "metadata": {
        "id": "Q0MJVBr_KMst"
      },
      "execution_count": null,
      "outputs": []
    },
    {
      "cell_type": "markdown",
      "source": [
        "**3. How do you define different routes with different HTTP methods in Flask?**"
      ],
      "metadata": {
        "id": "1hCJFRUFKapC"
      }
    },
    {
      "cell_type": "code",
      "source": [
        "from flask import Flask, request, jsonify\n",
        "\n",
        "app = Flask(__name__)\n",
        "\n",
        "@app.route('/items', methods=['GET'])\n",
        "def get_items():\n",
        "    items = ['apple', 'banana', 'cherry']\n",
        "    return jsonify({'items': items})\n",
        "\n",
        "@app.route('/items', methods=['POST'])\n",
        "def create_item():\n",
        "    data = request.get_json()\n",
        "    new_item = data.get('item')\n",
        "    return jsonify({'message': f'Item {new_item} created!'}), 201\n",
        "\n",
        "@app.route('/items/<item_name>', methods=['PUT'])\n",
        "def update_item(item_name):\n",
        "    data = request.get_json()\n",
        "    updated_item = data.get('item')\n",
        "    return jsonify({'message': f'Item {item_name} updated to {updated_item}'}), 200\n",
        "\n",
        "@app.route('/items/<item_name>', methods=['DELETE'])\n",
        "def delete_item(item_name):\n",
        "    return jsonify({'message': f'Item {item_name} deleted!'}), 200\n",
        "\n",
        "if __name__ == '__main__':\n",
        "    app.run(debug=True)\n"
      ],
      "metadata": {
        "id": "19o-DkhvKq_Z"
      },
      "execution_count": null,
      "outputs": []
    },
    {
      "cell_type": "markdown",
      "source": [
        "**4.  How do you render HTML templates in Flask?**"
      ],
      "metadata": {
        "id": "Tl5UhaWcKvRR"
      }
    },
    {
      "cell_type": "code",
      "source": [
        "<!DOCTYPE html>\n",
        "<html lang=\"en\">\n",
        "<head>\n",
        "    <meta charset=\"UTF-8\">\n",
        "    <meta name=\"viewport\" content=\"width=device-width, initial-scale=1.0\">\n",
        "    <title>Flask Template Example</title>\n",
        "</head>\n",
        "<body>\n",
        "    <h1>Welcome to Flask, {{ name }}!</h1>\n",
        "</body>\n",
        "</html>\n"
      ],
      "metadata": {
        "id": "0h3cOOQJK1vV"
      },
      "execution_count": null,
      "outputs": []
    },
    {
      "cell_type": "markdown",
      "source": [
        "**5.How can you generate URLs for routes in Flask using url\\_for?**"
      ],
      "metadata": {
        "id": "TITbWxnQLUIY"
      }
    },
    {
      "cell_type": "code",
      "source": [
        "from flask import Flask, url_for, render_template\n",
        "\n",
        "app = Flask(__name__)\n",
        "\n",
        "# Define a route\n",
        "@app.route('/')\n",
        "def home():\n",
        "    return 'Home Page'\n",
        "\n",
        "# Another route\n",
        "@app.route('/about')\n",
        "def about():\n",
        "    return 'About Page'\n",
        "\n",
        "@app.route('/generate_url')\n",
        "def generate_url():\n",
        "    # Generate a URL for the 'about' route\n",
        "    about_url = url_for('about')\n",
        "    return f'The URL for the About page is: {about_url}'\n",
        "\n",
        "if __name__ == '__main__':\n",
        "    app.run(debug=True)\n"
      ],
      "metadata": {
        "id": "vwlBj0hYLlxE"
      },
      "execution_count": null,
      "outputs": []
    },
    {
      "cell_type": "markdown",
      "source": [
        "**6. How do you handle forms in Flask?**"
      ],
      "metadata": {
        "id": "pHk6mbM1Ln8f"
      }
    },
    {
      "cell_type": "code",
      "source": [
        "from flask import Flask, render_template, redirect, url_for\n",
        "from flask_wtf import FlaskForm\n",
        "from wtforms import StringField, EmailField\n",
        "from wtforms.validators import DataRequired, Email\n",
        "\n",
        "app = Flask(__name__)\n",
        "app.secret_key = 'your_secret_key'  # Required for CSRF protection\n",
        "\n",
        "class UserForm(FlaskForm):\n",
        "    name = StringField('Name', validators=[DataRequired()])\n",
        "    email = EmailField('Email', validators=[DataRequired(), Email()])\n",
        "\n",
        "@app.route('/', methods=['GET', 'POST'])\n",
        "def home():\n",
        "    form = UserForm()\n",
        "    if form.validate_on_submit():\n",
        "        name = form.name.data\n",
        "        email = form.email.data\n",
        "        return f'Name: {name}, Email: {email}'\n",
        "    return render_template('form_wtf.html', form=form)\n",
        "\n",
        "if __name__ == '__main__':\n",
        "    app.run(debug=True)\n"
      ],
      "metadata": {
        "id": "UQjyI3pzLtHL"
      },
      "execution_count": null,
      "outputs": []
    },
    {
      "cell_type": "markdown",
      "source": [
        "**7. How can you validate form data in Flask?**"
      ],
      "metadata": {
        "id": "oDofkpsZL603"
      }
    },
    {
      "cell_type": "code",
      "source": [
        "from flask import Flask, request, render_template_string\n",
        "\n",
        "app = Flask(__name__)\n",
        "\n",
        "@app.route('/', methods=['GET', 'POST'])\n",
        "def home():\n",
        "    if request.method == 'POST':\n",
        "        # Get form data\n",
        "        name = request.form.get('name')\n",
        "        email = request.form.get('email')\n",
        "\n",
        "        # Manual Validation\n",
        "        if not name or not email:\n",
        "            return 'Name and email are required', 400\n",
        "\n",
        "        if '@' not in email:\n",
        "            return 'Invalid email address', 400\n",
        "\n",
        "        return f'Name: {name}, Email: {email}'\n",
        "\n",
        "    return '''\n",
        "        <form method=\"POST\">\n",
        "            Name: <input type=\"text\" name=\"name\"><br><br>\n",
        "            Email: <input type=\"text\" name=\"email\"><br><br>\n",
        "            <input type=\"submit\" value=\"Submit\">\n",
        "        </form>\n",
        "    '''\n",
        "\n",
        "if __name__ == '__main__':\n",
        "    app.run(debug=True)\n"
      ],
      "metadata": {
        "id": "G4SdSfI8MAWB"
      },
      "execution_count": null,
      "outputs": []
    },
    {
      "cell_type": "markdown",
      "source": [
        "**8. How do you manage sessions in Flask?**"
      ],
      "metadata": {
        "id": "6H8uSaABMF5E"
      }
    },
    {
      "cell_type": "code",
      "source": [
        "from flask import Flask, session, redirect, url_for, request, render_template_string\n",
        "\n",
        "app = Flask(__name__)\n",
        "\n",
        "# Set the secret key to sign session data securely\n",
        "app.secret_key = 'your_secret_key'\n",
        "\n",
        "@app.route('/')\n",
        "def home():\n",
        "    # Check if a user is logged in\n",
        "    if 'username' in session:\n",
        "        username = session['username']\n",
        "        return f'Hello, {username}!'\n",
        "    return 'You are not logged in. <a href=\"/login\">Login here</a>'\n",
        "\n",
        "@app.route('/login', methods=['GET', 'POST'])\n",
        "def login():\n",
        "    if request.method == 'POST':\n",
        "        # Store username in session\n",
        "        session['username'] = request.form['username']\n",
        "        return redirect(url_for('home'))\n",
        "    return '''\n",
        "        <form method=\"POST\">\n",
        "            Username: <input type=\"text\" name=\"username\"><br>\n",
        "            <input type=\"submit\" value=\"Login\">\n",
        "        </form>\n",
        "    '''\n",
        "\n",
        "@app.route('/logout')\n",
        "def logout():\n",
        "    # Remove username from session\n",
        "    session.pop('username', None)\n",
        "    return redirect(url_for('home'))\n",
        "\n",
        "if __name__ == '__main__':\n",
        "    app.run(debug=True)\n"
      ],
      "metadata": {
        "id": "vUjZe3tQMLYr"
      },
      "execution_count": null,
      "outputs": []
    },
    {
      "cell_type": "markdown",
      "source": [
        "**9. How do you redirect to a different route in Flask?**"
      ],
      "metadata": {
        "id": "lfVlyzCFMQ-h"
      }
    },
    {
      "cell_type": "code",
      "source": [
        "from flask import Flask, redirect, url_for\n",
        "\n",
        "app = Flask(__name__)\n",
        "\n",
        "@app.route('/')\n",
        "def home():\n",
        "    return 'Welcome to the Home Page. <a href=\"/login\">Login</a>'\n",
        "\n",
        "@app.route('/login')\n",
        "def login():\n",
        "    return 'Login Page'\n",
        "\n",
        "@app.route('/login_redirect')\n",
        "def login_redirect():\n",
        "    # Redirect to the login page\n",
        "    return redirect(url_for('login'))\n",
        "\n",
        "if __name__ == '__main__':\n",
        "    app.run(debug=True)\n"
      ],
      "metadata": {
        "id": "UIb0lDFvMXWE"
      },
      "execution_count": null,
      "outputs": []
    },
    {
      "cell_type": "markdown",
      "source": [
        "**10. How do you handle errors in Flask (e.g., 404)?**"
      ],
      "metadata": {
        "id": "3WBLz86JMbAZ"
      }
    },
    {
      "cell_type": "code",
      "source": [
        "from flask import Flask, render_template\n",
        "\n",
        "app = Flask(__name__)\n",
        "\n",
        "@app.route('/')\n",
        "def home():\n",
        "    return 'Welcome to the Home Page!'\n",
        "\n",
        "@app.route('/cause_404')\n",
        "def cause_404():\n",
        "    # This will simulate a 404 error by attempting to access a non-existent route\n",
        "    return 'This will cause a 404 error'\n",
        "\n",
        "# Error handler for 404 (Page Not Found)\n",
        "@app.errorhandler(404)\n",
        "def page_not_found(error):\n",
        "    return render_template('404.html'), 404\n",
        "\n",
        "# Error handler for 500 (Internal Server Error)\n",
        "@app.errorhandler(500)\n",
        "def internal_error(error):\n",
        "    return \"An internal error occurred. Please try again later.\", 500\n",
        "\n",
        "if __name__ == '__main__':\n",
        "    app.run(debug=True)\n"
      ],
      "metadata": {
        "id": "9cFRjJ0SMf23"
      },
      "execution_count": null,
      "outputs": []
    },
    {
      "cell_type": "markdown",
      "source": [
        "**11. How do you structure a Flask app using Blueprints?**"
      ],
      "metadata": {
        "id": "2OenwbnFMj0r"
      }
    },
    {
      "cell_type": "code",
      "source": [
        "from flask import Flask, Blueprint, render_template\n",
        "\n",
        "# Create the Flask app\n",
        "app = Flask(__name__)\n",
        "\n",
        "# Define the 'auth' blueprint for authentication\n",
        "auth = Blueprint('auth', __name__)\n",
        "\n",
        "# Define a route for the login page in the 'auth' blueprint\n",
        "@auth.route('/login')\n",
        "def login():\n",
        "    return render_template('login.html')\n",
        "\n",
        "# Define a route for the logout page in the 'auth' blueprint\n",
        "@auth.route('/logout')\n",
        "def logout():\n",
        "    return 'You have logged out.'\n",
        "\n",
        "# Define the 'blog' blueprint for blog functionality\n",
        "blog = Blueprint('blog', __name__)\n",
        "\n",
        "# Define a route for the blog homepage in the 'blog' blueprint\n",
        "@blog.route('/')\n",
        "def index():\n",
        "    return render_template('index.html')\n",
        "\n",
        "# Register blueprints with the app\n",
        "app.register_blueprint(auth, url_prefix='/auth')  # Auth routes will be prefixed with '/auth'\n",
        "app.register_blueprint(blog)  # Blog routes will be accessible from the root URL\n",
        "\n",
        "# Error handler for 404 (Page Not Found)\n",
        "@app.errorhandler(404)\n",
        "def page_not_found(error):\n",
        "    return render_template('404.html'), 404\n",
        "\n",
        "if __name__ == '__main__':\n",
        "    app.run(debug=True)\n"
      ],
      "metadata": {
        "id": "tSvr1fShMo2C"
      },
      "execution_count": null,
      "outputs": []
    },
    {
      "cell_type": "markdown",
      "source": [
        "**12. How do you define a custom Jinja filter in Flask?**"
      ],
      "metadata": {
        "id": "k1SKQEQnM_WM"
      }
    },
    {
      "cell_type": "code",
      "source": [
        "from flask import Flask, render_template\n",
        "\n",
        "# Create the Flask app\n",
        "app = Flask(__name__)\n",
        "\n",
        "# Define a custom Jinja filter using the @app.template_filter() decorator\n",
        "@app.template_filter('title_case')\n",
        "def title_case(s):\n",
        "    # Convert a string to Title Case (capitalize each word)\n",
        "    return s.title() if isinstance(s, str) else s\n",
        "\n",
        "# Route for the home page\n",
        "@app.route('/')\n",
        "def home():\n",
        "    # Pass a string to the template to demonstrate the custom filter\n",
        "    sample_string = \"hello world from flask\"\n",
        "    return render_template('index.html', text=sample_string)\n",
        "\n",
        "if __name__ == '__main__':\n",
        "    app.run(debug=True)\n"
      ],
      "metadata": {
        "id": "vL2ngKMeNER5"
      },
      "execution_count": null,
      "outputs": []
    },
    {
      "cell_type": "markdown",
      "source": [
        "**13. How can you redirect with query parameters in Flask?**"
      ],
      "metadata": {
        "id": "jLLE__HHNL1X"
      }
    },
    {
      "cell_type": "code",
      "source": [
        "from flask import Flask, redirect, url_for\n",
        "\n",
        "app = Flask(__name__)\n",
        "\n",
        "# Route to handle redirect with query parameters\n",
        "@app.route('/')\n",
        "def home():\n",
        "    # Redirect to another route with query parameters\n",
        "    return redirect(url_for('greet', name='John', age=30))\n",
        "\n",
        "# Route that accepts query parameters\n",
        "@app.route('/greet')\n",
        "def greet():\n",
        "    # Get query parameters from the request\n",
        "    name = request.args.get('name')\n",
        "    age = request.args.get('age')\n",
        "    return f'Hello {name}, you are {age} years old!'\n",
        "\n",
        "if __name__ == '__main__':\n",
        "    app.run(debug=True)\n"
      ],
      "metadata": {
        "id": "Ja96I55GNSLb"
      },
      "execution_count": null,
      "outputs": []
    },
    {
      "cell_type": "markdown",
      "source": [
        "**14. How do you return JSON responses in Flask?**"
      ],
      "metadata": {
        "id": "zC1QW3VFNVvR"
      }
    },
    {
      "cell_type": "code",
      "source": [
        "from flask import Flask, jsonify\n",
        "\n",
        "app = Flask(__name__)\n",
        "\n",
        "# Route to return a JSON response\n",
        "@app.route('/data')\n",
        "def get_data():\n",
        "    # Create a Python dictionary (or list) to return as JSON\n",
        "    data = {\n",
        "        'name': 'John',\n",
        "        'age': 30,\n",
        "        'city': 'New York'\n",
        "    }\n",
        "\n",
        "    # Return the dictionary as a JSON response\n",
        "    return jsonify(data)\n",
        "\n",
        "if __name__ == '__main__':\n",
        "    app.run(debug=True)\n"
      ],
      "metadata": {
        "id": "Ci3-x7nANZ5Y"
      },
      "execution_count": null,
      "outputs": []
    },
    {
      "cell_type": "markdown",
      "source": [
        "**15. How do you capture URL parameters in Flask?**\n"
      ],
      "metadata": {
        "id": "FzEc0C5VNfDK"
      }
    },
    {
      "cell_type": "code",
      "source": [
        "from flask import Flask, request\n",
        "\n",
        "app = Flask(__name__)\n",
        "\n",
        "# Route with path parameters (captures 'username' and 'post_id')\n",
        "@app.route('/user/<username>/post/<int:post_id>')\n",
        "def show_user_post(username, post_id):\n",
        "    return f'User: {username}, Post ID: {post_id}'\n",
        "\n",
        "# Route with query parameters (captures 'q' and 'page')\n",
        "@app.route('/search')\n",
        "def search():\n",
        "    query = request.args.get('q')  # Capture query parameter 'q'\n",
        "    page = request.args.get('page')  # Capture query parameter 'page'\n",
        "    return f'Search query: {query}, Page: {page}'\n",
        "\n",
        "# Route with optional path parameter (defaults to 'Guest' if no name is provided)\n",
        "@app.route('/greet/', defaults={'name': 'Guest'})\n",
        "@app.route('/greet/<name>')\n",
        "def greet(name):\n",
        "    return f'Hello, {name}!'\n",
        "\n",
        "if __name__ == '__main__':\n",
        "    app.run(debug=True)\n"
      ],
      "metadata": {
        "id": "PQ8tMXWkNn9a"
      },
      "execution_count": null,
      "outputs": []
    }
  ]
}